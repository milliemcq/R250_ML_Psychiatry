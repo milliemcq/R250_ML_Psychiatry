{
 "cells": [
  {
   "cell_type": "code",
   "execution_count": 1,
   "metadata": {},
   "outputs": [],
   "source": [
    "import pandas as pd\n",
    "import matplotlib.pyplot as plt \n",
    "import numpy as np \n",
    "import math\n",
    "# https://nilearn.github.io/connectivity/region_extraction.html#visualization-of-functional-connectivity-matrices"
   ]
  },
  {
   "cell_type": "code",
   "execution_count": null,
   "metadata": {},
   "outputs": [],
   "source": [
    "# Reload original dataframes\n",
    "\n",
    "demographics_og_df = pd.read_csv('Cowork-data-20210215/COBRE_demographics.csv')\n",
    "cortical_thickness_og_df = pd.read_csv('Cowork-data-20210215/COBRE_cortical_thickness.csv')\n",
    "connectivity_og_df = pd.read_csv('Cowork-data-20210215/COBRE_fmri_connectivity.csv', names=[i for i in range(85849)])\n",
    "regions_og_df = pd.read_csv('Cowork-data-20210215/COBRE_fmri_regions.csv')"
   ]
  },
  {
   "cell_type": "code",
   "execution_count": null,
   "metadata": {},
   "outputs": [],
   "source": [
    "# Reload Dataframes quickly \n",
    "\n",
    "demographics_df = demographics_og_df.copy()\n",
    "cortical_thickness_df = cortical_thickness_og_df.copy()\n",
    "connectivity_df = connectivity_og_df.copy()\n",
    "regions_df = regions_og_df.copy()"
   ]
  },
  {
   "cell_type": "code",
   "execution_count": null,
   "metadata": {},
   "outputs": [],
   "source": [
    "print(demographics_df.shape)\n",
    "print(cortical_thickness_df.shape)\n",
    "print(connectivity_df.shape)\n",
    "print(regions_df.shape)"
   ]
  },
  {
   "cell_type": "code",
   "execution_count": null,
   "metadata": {},
   "outputs": [],
   "source": [
    "# Make PANSS Graphs\n",
    "female_symptom_data = []\n",
    "male_symptom_data = []\n",
    "\n",
    "for index, row in demographics_df.iterrows():\n",
    "    if row.labels == 1:\n",
    "        if not math.isnan(row.PANSS_total):\n",
    "            if row.sex == -1:\n",
    "                male_symptom_data.append(row.PANSS_total)\n",
    "            else:\n",
    "                female_symptom_data.append(row.PANSS_total)\n",
    "\n",
    "            \n",
    "print(len(male_symptom_data))\n",
    "print(len(female_symptom_data))\n",
    "bp_data = [np.array(male_symptom_data), np.array(female_symptom_data)]\n",
    "print(bp_data[0])\n",
    "print(len(bp_data))\n",
    "fig = plt.figure(figsize =(7, 7)) \n",
    "  \n",
    "# Creating axes instance \n",
    "ax = fig.add_subplot(111) \n",
    "\n",
    "ax.set_xticklabels(['Male', 'Female']) \n",
    "  \n",
    "# Creating plot \n",
    "bp = ax.boxplot(bp_data) \n",
    "  \n",
    "# show plot \n",
    "plt.show() "
   ]
  },
  {
   "cell_type": "code",
   "execution_count": null,
   "metadata": {},
   "outputs": [],
   "source": [
    "labels = demographics_df.labels.values"
   ]
  },
  {
   "cell_type": "code",
   "execution_count": null,
   "metadata": {},
   "outputs": [],
   "source": [
    "data = connectivity_df.values\n",
    "print(data.shape)"
   ]
  },
  {
   "cell_type": "code",
   "execution_count": null,
   "metadata": {},
   "outputs": [],
   "source": [
    "from sklearn.model_selection import train_test_split\n",
    "from sklearn.ensemble import RandomForestClassifier\n",
    "\n",
    "X_train, X_test, y_train, y_test = train_test_split(data, labels, test_size=0.33, random_state=42)\n",
    "\n",
    "\n",
    "clf = RandomForestClassifier(n_estimators=5000, max_depth=100, random_state=0)\n",
    "clf.fit(X_train, y_train)"
   ]
  },
  {
   "cell_type": "code",
   "execution_count": null,
   "metadata": {},
   "outputs": [],
   "source": [
    "from sklearn.metrics import f1_score, accuracy_score\n",
    "\n",
    "y_pred = clf.predict(X_test)\n",
    "print(f1_score(y_test, y_pred, average='macro'))\n",
    "print(accuracy_score(y_test, y_pred))"
   ]
  },
  {
   "cell_type": "code",
   "execution_count": null,
   "metadata": {},
   "outputs": [],
   "source": [
    "importances = clf.feature_importances_\n",
    "\n",
    "\n",
    "sorted_indices = np.argsort(importances)[::-1]\n",
    "a = np.array(importances).reshape(293,293)"
   ]
  },
  {
   "cell_type": "code",
   "execution_count": null,
   "metadata": {},
   "outputs": [],
   "source": [
    "plt.figure(figsize=(20,20))\n",
    "hm = plt.imshow(a, cmap='RdYlGn', interpolation='nearest')\n",
    "plt.colorbar(hm)\n",
    "plt.show()"
   ]
  },
  {
   "cell_type": "markdown",
   "metadata": {},
   "source": [
    "- Ran a random forest classifier to classify shizophrenia, vs control \n",
    "- From this classification, achieved around 70% accuracy\n",
    "- Observed the feature importances to determine the brain regions which are important to classifying a patient as having shizophrenia "
   ]
  },
  {
   "cell_type": "code",
   "execution_count": null,
   "metadata": {},
   "outputs": [],
   "source": [
    "print(len(a))\n",
    "final = []\n",
    "for i, item in enumerate(a):\n",
    "    final.append(sum(item))\n",
    "    \n",
    "sorted_indices = np.argsort(final)[::-1]\n",
    "print(sorted_indices[:25])\n",
    "new_a = a[sorted_indices[:50]]\n",
    "print(new_a.shape)\n",
    "\n",
    "# final_a = [item[sorted_indices[:50]] for item in new_a]\n",
    "# final_a = np.array(final_a)\n",
    "# print(final_a.shape)\n",
    "\n",
    "plt.figure(figsize=(20,20))\n",
    "hm = plt.imshow(new_a, cmap='RdYlGn', interpolation='nearest')\n",
    "plt.colorbar(hm)\n",
    "plt.show()\n"
   ]
  },
  {
   "cell_type": "markdown",
   "metadata": {},
   "source": [
    "# Sex-Based Differences\n",
    "\n",
    "Top 25 Regions: [241 172  96  39  24 242  94  52  68 207 231 276 162  78 138 233 214 277\n",
    "  83  10 171  67 129 132 126]"
   ]
  },
  {
   "cell_type": "code",
   "execution_count": null,
   "metadata": {},
   "outputs": [],
   "source": [
    "# Recreate dataset with only top 25 regions and only M/F Schizophrenia patients \n",
    "\n",
    "final_dataset = []\n",
    "final_labels = []\n",
    "\n",
    "for index, row in demographics_df.iterrows():\n",
    "    if row.labels == 1:\n",
    "        final_dataset.append(connectivity_df.iloc[index].values)\n",
    "        if row.sex == -1:\n",
    "            final_labels.append(-1)\n",
    "        else:\n",
    "            final_labels.append(1)\n",
    "                \n",
    "final_dataset = np.array(final_dataset)\n",
    "print(final_dataset.shape)\n",
    "# print(len(final_labels))\n",
    "# print(final_labels)"
   ]
  },
  {
   "cell_type": "code",
   "execution_count": null,
   "metadata": {},
   "outputs": [],
   "source": [
    "from sklearn.model_selection import train_test_split\n",
    "from sklearn.ensemble import RandomForestClassifier\n",
    "\n",
    "X_train, X_test, y_train, y_test = train_test_split(final_dataset, final_labels, test_size=0.33, random_state=42)\n",
    "\n",
    "\n",
    "clf = RandomForestClassifier(n_estimators=1000, max_depth=100, random_state=0)\n",
    "clf.fit(X_train, y_train)\n",
    "\n",
    "from sklearn.metrics import f1_score, accuracy_score\n",
    "\n",
    "y_pred = clf.predict(X_test)\n",
    "print(f1_score(y_test, y_pred, average='macro'))\n",
    "print(accuracy_score(y_test, y_pred))"
   ]
  },
  {
   "cell_type": "markdown",
   "metadata": {},
   "source": [
    "Originally found very low f_measure for classifying sex differences"
   ]
  },
  {
   "cell_type": "code",
   "execution_count": null,
   "metadata": {},
   "outputs": [],
   "source": [
    "rois = [241, 172, 96, 39, 24, 242, 94, 52, 68, 207, 231, 276, 162, 78, \n",
    "        138, 233, 214, 277, 83, 10, 171, 67, 129, 132, 126]\n",
    "rois = rois[:5]\n",
    "\n",
    "smaller_dataset = []\n",
    "for subject in final_dataset:\n",
    "    n_n = np.array(subject).reshape(293,293)\n",
    "    temp = np.array(n_n[rois])\n",
    "    print(temp.shape)\n",
    "#     temp = np.array([row[rois] for row in temp])\n",
    "    smaller_dataset.append(temp.ravel())\n",
    "    \n",
    "smaller_dataset = np.array(smaller_dataset)\n",
    "print(smaller_dataset.shape)"
   ]
  },
  {
   "cell_type": "code",
   "execution_count": null,
   "metadata": {},
   "outputs": [],
   "source": [
    "from sklearn.model_selection import train_test_split\n",
    "from sklearn.ensemble import RandomForestClassifier\n",
    "\n",
    "X_train, X_test, y_train, y_test = train_test_split(smaller_dataset, final_labels, test_size=0.33, random_state=42)\n",
    "\n",
    "\n",
    "clf = RandomForestClassifier(n_estimators=5, max_depth=2, random_state=42)\n",
    "clf.fit(X_train, y_train)\n",
    "\n",
    "from sklearn.metrics import f1_score, accuracy_score\n",
    "\n",
    "y_pred = clf.predict(X_test)\n",
    "print(f1_score(y_test, y_pred, average='macro'))\n",
    "print(accuracy_score(y_test, y_pred))"
   ]
  },
  {
   "cell_type": "code",
   "execution_count": null,
   "metadata": {},
   "outputs": [],
   "source": [
    "from sklearn.pipeline import Pipeline\n",
    "from sklearn.preprocessing import PolynomialFeatures\n",
    "from sklearn.svm import LinearSVC\n",
    "\n",
    "# Using Polynomial Features\n",
    "poly_svm_clf = Pipeline([\n",
    "                     ('poly_features', PolynomialFeatures(degree=3)),\n",
    "                     (\"svm_clf\", LinearSVC(C=0.01, loss=\"hinge\"))\n",
    "])\n",
    "\n",
    "poly_svm_clf.fit(X_train, y_train)\n",
    "\n",
    "y_pred = poly_svm_clf.predict(X_test)\n",
    "print(f1_score(y_test, y_pred, average='macro'))\n",
    "print(accuracy_score(y_test, y_pred))"
   ]
  },
  {
   "cell_type": "code",
   "execution_count": null,
   "metadata": {},
   "outputs": [],
   "source": []
  }
 ],
 "metadata": {
  "kernelspec": {
   "display_name": "Python 3",
   "language": "python",
   "name": "python3"
  },
  "language_info": {
   "codemirror_mode": {
    "name": "ipython",
    "version": 3
   },
   "file_extension": ".py",
   "mimetype": "text/x-python",
   "name": "python",
   "nbconvert_exporter": "python",
   "pygments_lexer": "ipython3",
   "version": "3.6.12"
  }
 },
 "nbformat": 4,
 "nbformat_minor": 4
}
